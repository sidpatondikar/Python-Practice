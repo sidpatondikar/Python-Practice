{
  "nbformat": 4,
  "nbformat_minor": 0,
  "metadata": {
    "colab": {
      "provenance": [],
      "authorship_tag": "ABX9TyPj+GGLZUvyX00EshRZy6E1",
      "include_colab_link": true
    },
    "kernelspec": {
      "name": "python3",
      "display_name": "Python 3"
    },
    "language_info": {
      "name": "python"
    }
  },
  "cells": [
    {
      "cell_type": "markdown",
      "metadata": {
        "id": "view-in-github",
        "colab_type": "text"
      },
      "source": [
        "<a href=\"https://colab.research.google.com/github/sidpatondikar/Python-Practice/blob/main/Python_Practice.ipynb\" target=\"_parent\"><img src=\"https://colab.research.google.com/assets/colab-badge.svg\" alt=\"Open In Colab\"/></a>"
      ]
    },
    {
      "cell_type": "markdown",
      "source": [
        "# Python Practice"
      ],
      "metadata": {
        "id": "VqWL-t2R6Ox3"
      }
    },
    {
      "cell_type": "markdown",
      "source": [
        "## Strings"
      ],
      "metadata": {
        "id": "cgXeuAYjVySm"
      }
    },
    {
      "cell_type": "markdown",
      "source": [
        "- Strings are used to store textual info, it can be word, phrase, sentence or entire encyclopedia.\n",
        "- In python strings are called 'sequence' which means python keep track of every element inside the string as a sequence."
      ],
      "metadata": {
        "id": "E-fuQQOMWLcD"
      }
    },
    {
      "cell_type": "markdown",
      "source": [
        "### String Indexing"
      ],
      "metadata": {
        "id": "b5QBrDL4Weo8"
      }
    },
    {
      "cell_type": "code",
      "source": [
        "s = 'Siddharth'\n",
        "\n",
        "#Indexing\n",
        "print(f'Indexing : {s[2]}')\n",
        "\n",
        "#Slicing\n",
        "print(f'Slicing : {s[0:3]}')\n",
        "\n",
        "#Indexing + Slicing\n",
        "print(f'Slicing alternate char : {s[::2]}')\n",
        "\n",
        "#Reverse slicing\n",
        "print(f'Reverse : {s[8::-1]}')\n"
      ],
      "metadata": {
        "id": "aBzkIqyNJ022",
        "colab": {
          "base_uri": "https://localhost:8080/"
        },
        "outputId": "91535c79-3084-4e7c-9418-6c390e50a15c"
      },
      "execution_count": null,
      "outputs": [
        {
          "output_type": "stream",
          "name": "stdout",
          "text": [
            "Indexing : d\n",
            "Slicing : Sid\n",
            "Slicing alternate char : Sdhrh\n",
            "Reverse : htrahddiS\n"
          ]
        }
      ]
    },
    {
      "cell_type": "markdown",
      "source": [
        "- Strings are `immutable`, we have to reassign a string to make changes in it.\n",
        "- If we want a string to repeat, we multiply it by an integer, s='fe' , s*3 = 'fefefe'"
      ],
      "metadata": {
        "id": "9q2RqLiq-GbD"
      }
    },
    {
      "cell_type": "markdown",
      "source": [
        "### String Functions and Methods"
      ],
      "metadata": {
        "id": "noXatVge-an2"
      }
    },
    {
      "cell_type": "markdown",
      "source": [
        "`len(string):`\n",
        "\n",
        "- Description: Returns the length of the string (number of characters).\n",
        "- Example: len(\"hello\") returns 5.\n",
        "\n",
        "`string.capitalize():`\n",
        "\n",
        "- Description: Returns a copy of the string with the first character capitalized and the rest in lowercase.\n",
        "- Example: \"hello\".capitalize() returns \"Hello\".\n",
        "\n",
        "`string.upper():`\n",
        "\n",
        "- Description: Returns a copy of the string with all characters in uppercase.\n",
        "- Example: \"hello\".upper() returns \"HELLO\".\n",
        "\n",
        "`string.lower():`\n",
        "\n",
        "- Description: Returns a copy of the string with all characters in lowercase.\n",
        "- Example: \"Hello\".lower() returns \"hello\".\n",
        "\n",
        "`string.title():`\n",
        "\n",
        "- Description: Returns a copy of the string with the first character of each word capitalized and the rest in lowercase.\n",
        "- Example: \"hello world\".title() returns \"Hello World\".\n",
        "\n",
        "`string.count(substring):`\n",
        "\n",
        "- Description: Returns the number of non-overlapping occurrences of a substring in the string.\n",
        "- Example: \"hello world\".count(\"o\") returns 2.\n",
        "\n",
        "`string.replace(old, new[, count]):`\n",
        "\n",
        "- Description: Returns a copy of the string with all occurrences of the old substring replaced by the new substring. An optional count parameter limits the number of replacements.\n",
        "- Example: \"hello world\".replace(\"o\", \"a\") returns \"hella warld\".\n",
        "\n",
        "`string.split([separator[, maxsplit]]):`\n",
        "\n",
        "- Description: Returns a list of substrings obtained by splitting the string at occurrences of a separator. An optional maxsplit parameter limits the number of splits.\n",
        "- Example: \"hello world\".split() returns ['hello', 'world'].\n",
        "\n",
        "`string.strip([chars]):`\n",
        "\n",
        "- Description: Returns a copy of the string with leading and trailing characters from the chars parameter removed. If chars is not provided, it removes whitespace characters.\n",
        "- Example: \" hello \".strip() returns \"hello\".\n",
        "\n",
        "`string.join(iterable):`\n",
        "\n",
        "- Description: Returns a string that is the concatenation of the strings in the iterable, joined by the original string.\n",
        "- Example: \"-\".join([\"a\", \"b\", \"c\"]) returns \"a-b-c\".\n",
        "\n",
        "`string.find(substring, start, end):`\n",
        "- Description : Returns the index of first occurance of the substring.\n",
        "\n",
        "`string.rfind(substring, start, end):`\n",
        "- Description : Returns the index of last occurance of the substring."
      ],
      "metadata": {
        "id": "_9f3S9B3-dLP"
      }
    },
    {
      "cell_type": "markdown",
      "source": [
        "## Lists"
      ],
      "metadata": {
        "id": "MP0068BlALn6"
      }
    },
    {
      "cell_type": "markdown",
      "source": [
        "- Lists are the most general version of sequence in python\n",
        "- List is mutable unlike string, lists can be created using []\n",
        "- data type of list is list, a list can have any kind of data.\n",
        "- List indexing and slicing is similar to strings"
      ],
      "metadata": {
        "id": "Qea6zs9hA4IP"
      }
    },
    {
      "cell_type": "markdown",
      "source": [
        "### List Functions and Methods"
      ],
      "metadata": {
        "id": "Fw-X2PF5BLzd"
      }
    },
    {
      "cell_type": "markdown",
      "source": [
        "\n",
        "1. `len(list):`\n",
        "   - Description: Returns the number of elements in the list.\n",
        "   - Example: `len([1, 2, 3])` returns `3`.\n",
        "\n",
        "2. `max(list), min(list), sum(list):`\n",
        "    - Description : Returns the max, min or sum of the list, works for only numeric lists.\n",
        "\n",
        "2. `list.append(item):`\n",
        "   - Description: Adds an item to the end of the list.\n",
        "   - Example: `[1, 2, 3].append(4)` modifies the list to `[1, 2, 3, 4]`.\n",
        "\n",
        "3. `list.extend(iterable):`\n",
        "   - Description: Extends the list by appending elements from the iterable.\n",
        "   - Example: `[1, 2, 3].extend([4, 5])` modifies the list to `[1, 2, 3, 4, 5]`.\n",
        "\n",
        "4. `list.insert(index, item):`\n",
        "   - Description: Inserts an item at a specified index in the list.\n",
        "   - Example: `[1, 2, 3].insert(1, 5)` modifies the list to `[1, 5, 2, 3]`.\n",
        "\n",
        "5. `list.remove(item):`\n",
        "   - Description: Removes the first occurrence of the specified item from the list.\n",
        "   - Example: `[1, 2, 3, 2].remove(2)` modifies the list to `[1, 3, 2]`.\n",
        "\n",
        "6. `list.pop([index]):`\n",
        "   - Description: Removes and returns the item at the specified index. If index is not provided, removes and returns the last item.\n",
        "   - Example: `[1, 2, 3].pop(1)` modifies the list to `[1, 3]` and returns `2`.\n",
        "\n",
        "7. `list.index(item[, start[, end]]):`\n",
        "   - Description: Returns the index of the first occurrence of the specified item.\n",
        "   - Example: `[1, 2, 3, 2].index(2)` returns `1`.\n",
        "\n",
        "8. `list.count(item):`\n",
        "   - Description: Returns the number of occurrences of the specified item in the list.\n",
        "   - Example: `[1, 2, 3, 2].count(2)` returns `2`.\n",
        "\n",
        "9. `list.sort(key=None, reverse=False):`\n",
        "   - Description: Sorts the list in ascending order. The `key` parameter specifies a function to determine the sorting key, and `reverse` specifies whether to sort in descending order.\n",
        "   - Example: `[3, 1, 2].sort()` modifies the list to `[1, 2, 3]`.\n",
        "\n",
        "10. `list.reverse():`\n",
        "    - Description: Reverses the elements of the list in-place.\n",
        "    - Example: `[1, 2, 3].reverse()` modifies the list to `[3, 2, 1]`.\n",
        "\n",
        "11. `list.copy():`\n",
        "    - Description: Returns a shallow copy of the list.\n",
        "    - Example: `original_list = [1, 2, 3]; copied_list = original_list.copy()`.\n",
        "\n",
        "12. `list.clear():`\n",
        "    - Description: Removes all elements from the list, making it empty.\n",
        "    - Example: `[1, 2, 3].clear()` modifies the list to `[]`.\n",
        "\n"
      ],
      "metadata": {
        "id": "B4o5nzxDBOio"
      }
    },
    {
      "cell_type": "markdown",
      "source": [
        "### List Important Notes\n",
        "\n",
        "- If we initialize a string inside a list, it takes all its letters as element\n",
        "\n",
        "  eg: `list('cat') = ['c','a','t']`\n",
        "\n",
        "- If list = [None]*10, len(list)=10\n",
        "\n",
        "- As ASCII of captial letters < small letters, on sorting, capital letters will always come first."
      ],
      "metadata": {
        "id": "hmsAPItcDI2A"
      }
    },
    {
      "cell_type": "markdown",
      "source": [
        "##Tuples"
      ],
      "metadata": {
        "id": "aDWImf8eDz_e"
      }
    },
    {
      "cell_type": "markdown",
      "source": [
        "- Tuples are similar to lists but are immutable\n",
        "- Can initialize a tuple using `()`\n",
        "- Can take any type of dataset inside it\n",
        "- Indexing and slicing is same as strings."
      ],
      "metadata": {
        "id": "pOrYkStjD2wz"
      }
    },
    {
      "cell_type": "markdown",
      "source": [
        "### Tuples Functions and Methods"
      ],
      "metadata": {
        "id": "Bmod95jgEIri"
      }
    },
    {
      "cell_type": "markdown",
      "source": [
        "Certainly! Here's a list of commonly used functions and methods for tuples in Python, along with short descriptions for each:\n",
        "\n",
        "1. `len(tuple):`\n",
        "   - Description: Returns the number of elements in the tuple.\n",
        "   - Example: `len((1, 2, 3))` returns `3`.\n",
        "\n",
        "2. `tuple.count(item):`\n",
        "   - Description: Returns the number of occurrences of the specified item in the tuple.\n",
        "   - Example: `(1, 2, 3, 2).count(2)` returns `2`.\n",
        "\n",
        "3. `tuple.index(item[, start[, end]]):`\n",
        "   - Description: Returns the index of the first occurrence of the specified item.\n",
        "   - Example: `(1, 2, 3, 2).index(2)` returns `1`.\n",
        "\n",
        "4. `zip()` : Takes lists as argument and zips them together.\n",
        "\n"
      ],
      "metadata": {
        "id": "TmiFcosnEVR_"
      }
    },
    {
      "cell_type": "markdown",
      "source": [
        "## Sets"
      ],
      "metadata": {
        "id": "T90k5nUENJ0L"
      }
    },
    {
      "cell_type": "markdown",
      "source": [
        "- Sets are ordered collection of unique elements. They can be constructed by using `set()` function\n",
        "- For empty set we use `set()` instead of `{}` as this is reserved for an empty dictionary.\n",
        "- Set is mutable in nature but cannot have mutable elements like lists or set inside it.\n",
        "- `eval()` is used to evaluate a string operation to perform calculations inside."
      ],
      "metadata": {
        "id": "ZzUoHl8BNOBV"
      }
    },
    {
      "cell_type": "markdown",
      "source": [
        "### Sets Functions and Methods"
      ],
      "metadata": {
        "id": "Yr9F1dLkN-6Z"
      }
    },
    {
      "cell_type": "markdown",
      "source": [
        "Certainly! Here's a list of commonly used functions and methods for sets in Python, along with short descriptions for each:\n",
        "\n",
        "1. `len(set):`\n",
        "   - Description: Returns the number of elements in the set.\n",
        "   - Example: `len({1, 2, 3})` returns `3`.\n",
        "\n",
        "2. `set.add(item):`\n",
        "   - Description: Adds an item to the set.\n",
        "   - Example: `{1, 2}.add(3)` modifies the set to `{1, 2, 3}`.\n",
        "\n",
        "3. `set.update(iterable):`\n",
        "   - Description: Adds elements from an iterable to the set.\n",
        "   - Example: `{1, 2}.update([2, 3])` modifies the set to `{1, 2, 3}`.\n",
        "\n",
        "4. `set.remove(item):`\n",
        "   - Description: Removes the specified item from the set. Raises an error if the item is not found.\n",
        "   - Example: `{1, 2, 3}.remove(2)` modifies the set to `{1, 3}`.\n",
        "\n",
        "5. `set.discard(item):`\n",
        "   - Description: Removes the specified item from the set if it exists. Does nothing if the item is not found.\n",
        "   - Example: `{1, 2, 3}.discard(2)` modifies the set to `{1, 3}`.\n",
        "\n",
        "6. `set.pop():`\n",
        "   - Description: Removes and returns an arbitrary element from the set. Raises an error if the set is empty.\n",
        "   - Example: `{1, 2, 3}.pop()` removes and returns an element (e.g., `1`) from the set.\n",
        "\n",
        "9. `set.union(other_set):`\n",
        "   - Description: Returns a new set containing all elements from both sets (or other iterables).\n",
        "   - Example: `{1, 2}.union({2, 3})` returns `{1, 2, 3}`.\n",
        "\n",
        "10. `set.intersection(other_set):`\n",
        "    - Description: Returns a new set containing elements that are common to both sets (or other iterables).\n",
        "    - Example: `{1, 2}.intersection({2, 3})` returns `{2}`.\n",
        "\n",
        "11. `set.difference(other_set):`\n",
        "    - Description: Returns a new set containing elements that are in the first set but not in the second set (or other iterables).\n",
        "    - Example: `{1, 2, 3}.difference({2, 3, 4})` returns `{1}`.\n",
        "\n",
        "12. `set.symetric_difference(other_set):`\n",
        "    - Description: Returns a new set containing elements that are in the first set but not in the second set (or other iterables).\n",
        "    - Example: `{1, 2, 3}.difference({2, 3, 4})` returns `{1,4}`.\n",
        "\n",
        "12. `set.clear():`\n",
        "    - Description: Removes all elements from the set, making it empty.\n",
        "    - Example: `{1, 2, 3}.clear()` modifies the set to `set()`.\n"
      ],
      "metadata": {
        "id": "NVKl0G3jOBkm"
      }
    },
    {
      "cell_type": "markdown",
      "source": [
        "## Dictionaries"
      ],
      "metadata": {
        "id": "NfYOfIM0O8L1"
      }
    },
    {
      "cell_type": "markdown",
      "source": [
        "- Dictionaries are mapping in python. Mappings are collection of objects that are stored by a key, unlike a sequence that stores objects by their relative positions.\n",
        "\n",
        "- Python dict consists of a key and then associated value. That value can be almost any python object. So a dictionary object has always key-value pair."
      ],
      "metadata": {
        "id": "hIPSpkASPFbv"
      }
    },
    {
      "cell_type": "markdown",
      "source": [
        "### Dictionary Functions and Methods"
      ],
      "metadata": {
        "id": "f6AQl9n-PmL2"
      }
    },
    {
      "cell_type": "markdown",
      "source": [
        "Certainly! Here's a list of commonly used functions and methods for dictionaries in Python, along with short descriptions for each:\n",
        "\n",
        "1. `len(dictionary):`\n",
        "   - Description: Returns the number of key-value pairs in the dictionary.\n",
        "   - Example: `len({\"a\": 1, \"b\": 2})` returns `2`.\n",
        "\n",
        "2. `dictionary[key]:`\n",
        "   - Description: Accesses the value associated with the specified key in the dictionary.\n",
        "   - Example: `{\"a\": 1, \"b\": 2}[\"a\"]` returns `1`.\n",
        "\n",
        "3. `dictionary[key] = value:`\n",
        "   - Description: Assigns a value to the specified key in the dictionary. If the key doesn't exist, it adds a new key-value pair.\n",
        "   - Example: `d = {\"a\": 1}; d[\"b\"] = 2` modifies the dictionary to `{\"a\": 1, \"b\": 2}`.\n",
        "\n",
        "4. `del dictionary[key]:`\n",
        "   - Description: Removes the key-value pair with the specified key from the dictionary.\n",
        "   - Example: `d = {\"a\": 1, \"b\": 2}; del d[\"a\"]` modifies the dictionary to `{\"b\": 2}`.\n",
        "\n",
        "5. `dictionary.keys():`\n",
        "   - Description: Returns a view object that displays a list of all the keys in the dictionary.\n",
        "   - Example: `{\"a\": 1, \"b\": 2}.keys()` returns a view object containing `[\"a\", \"b\"]`.\n",
        "\n",
        "6. `dictionary.values():`\n",
        "   - Description: Returns a view object that displays a list of all the values in the dictionary.\n",
        "   - Example: `{\"a\": 1, \"b\": 2}.values()` returns a view object containing `[1, 2]`.\n",
        "\n",
        "7. `dictionary.items():`\n",
        "   - Description: Returns a view object that displays a list of key-value pairs as tuples in the dictionary.\n",
        "   - Example: `{\"a\": 1, \"b\": 2}.items()` returns a view object containing `[(\"a\", 1), (\"b\", 2)]`.\n",
        "\n",
        "8. `dictionary.get(key[, default]):`\n",
        "   - Description: Returns the value associated with the specified key. If the key is not found, it returns the default value (or `None` if not provided).\n",
        "   - Example: `{\"a\": 1}.get(\"a\", 0)` returns `1`.\n",
        "\n",
        "9. `dictionary.update({key:value}):`\n",
        "   - You can add a value which is a key-value pair in the dictionary.\n",
        "\n",
        "9. `dictionary.pop(key[, default]):`\n",
        "   - Description: Removes the key-value pair with the specified key and returns the value. If the key is not found, it returns the default value (or raises an error if not provided).\n",
        "   - Example: `{\"a\": 1}.pop(\"a\")` removes `\"a\"` and returns `1`.\n",
        "\n",
        "11. `dictionary.clear():`\n",
        "    - Description: Removes all key-value pairs from the dictionary, making it empty.\n",
        "    - Example: `{\"a\": 1, \"b\": 2}.clear()` modifies the dictionary to `{}`."
      ],
      "metadata": {
        "id": "xNGCNBX4PpyZ"
      }
    },
    {
      "cell_type": "code",
      "source": [],
      "metadata": {
        "id": "X5HaXJ0INMdV"
      },
      "execution_count": null,
      "outputs": []
    },
    {
      "cell_type": "markdown",
      "source": [
        "## Statement and Expressions"
      ],
      "metadata": {
        "id": "eodiZXwoUHd6"
      }
    },
    {
      "cell_type": "markdown",
      "source": [
        "- A statement is an instruction that the Python interpreter can execute.\n",
        "- An expression on the other hand is a combineation of values, variables operators and call to function. Expressions need to be evaluated. Generally found on RHS."
      ],
      "metadata": {
        "id": "X9F8revFUNAw"
      }
    },
    {
      "cell_type": "code",
      "source": [
        "# Multiline Statement\n",
        "\n",
        "x = 1\n",
        "y = (2\n",
        "     +5)\n",
        "print(x+y)\n",
        "print('----------')\n",
        "\n",
        "a=1;b=2;c=3\n",
        "print(f'a={a} , b={b}, c={c}')\n",
        "print('----------')\n",
        "\n",
        "a,b,c = 4,5,6\n",
        "print(f'a={a} , b={b}, c={c}')\n",
        "\n",
        "# Single line comment\n",
        "''' This is a\n",
        "multine comment'''"
      ],
      "metadata": {
        "colab": {
          "base_uri": "https://localhost:8080/",
          "height": 122
        },
        "id": "bXeuWZdfUJqz",
        "outputId": "c537400d-53ad-44ac-a46d-32ebc3e57df6"
      },
      "execution_count": null,
      "outputs": [
        {
          "output_type": "stream",
          "name": "stdout",
          "text": [
            "8\n",
            "----------\n",
            "a=1 , b=2, c=3\n",
            "----------\n",
            "a=4 , b=5, c=6\n"
          ]
        },
        {
          "output_type": "execute_result",
          "data": {
            "text/plain": [
              "' This is a \\nmultine comment'"
            ],
            "application/vnd.google.colaboratory.intrinsic+json": {
              "type": "string"
            }
          },
          "metadata": {},
          "execution_count": 3
        }
      ]
    },
    {
      "cell_type": "markdown",
      "source": [
        "#### Truthy and Falsy values:\n",
        "- All values are truthy values except None, False, 0, 0.0, (), [], {}, ''"
      ],
      "metadata": {
        "id": "7WdHHbghV1iF"
      }
    },
    {
      "cell_type": "markdown",
      "source": [
        "## Loops"
      ],
      "metadata": {
        "id": "9CU9VqmbSQvG"
      }
    },
    {
      "cell_type": "markdown",
      "source": [
        "### For - Loop"
      ],
      "metadata": {
        "id": "HYZKVVz6SWDF"
      }
    },
    {
      "cell_type": "code",
      "source": [
        "for i in range(1,10):\n",
        "  print(i, end=\" \")\n",
        "\n",
        "print()\n",
        "# Negative looping\n",
        "for i in range(10,0,-1):\n",
        "  print(i, end=\" \")"
      ],
      "metadata": {
        "colab": {
          "base_uri": "https://localhost:8080/"
        },
        "id": "1XjUsytzSgX3",
        "outputId": "ee8f42b9-92fd-4e37-8580-ced7dcb44d17"
      },
      "execution_count": null,
      "outputs": [
        {
          "output_type": "stream",
          "name": "stdout",
          "text": [
            "1 2 3 4 5 6 7 8 9 \n",
            "10 9 8 7 6 5 4 3 2 1 "
          ]
        }
      ]
    },
    {
      "cell_type": "markdown",
      "source": [
        "### Enumerate"
      ],
      "metadata": {
        "id": "xWJuRrnlSX9-"
      }
    },
    {
      "cell_type": "code",
      "source": [
        "list = ['a','b','c','d']\n",
        "\n",
        "for i, char in enumerate(list):\n",
        "  print(i, char)"
      ],
      "metadata": {
        "colab": {
          "base_uri": "https://localhost:8080/"
        },
        "id": "3QluKbwTSxDP",
        "outputId": "1ed785a2-a6b2-4e9e-d2bd-26cf6383f940"
      },
      "execution_count": null,
      "outputs": [
        {
          "output_type": "stream",
          "name": "stdout",
          "text": [
            "0 a\n",
            "1 b\n",
            "2 c\n",
            "3 d\n"
          ]
        }
      ]
    },
    {
      "cell_type": "markdown",
      "source": [
        "### While - Loop"
      ],
      "metadata": {
        "id": "_E0k3yBmSdCV"
      }
    },
    {
      "cell_type": "code",
      "source": [
        "i=10\n",
        "while(i>0):\n",
        "  print(i)\n",
        "  i-=1"
      ],
      "metadata": {
        "id": "d_C25qiKVTxB",
        "colab": {
          "base_uri": "https://localhost:8080/"
        },
        "outputId": "34fe8ed4-293c-45fd-cd1f-3bfc7e2a670e"
      },
      "execution_count": 1,
      "outputs": [
        {
          "output_type": "stream",
          "name": "stdout",
          "text": [
            "10\n",
            "9\n",
            "8\n",
            "7\n",
            "6\n",
            "5\n",
            "4\n",
            "3\n",
            "2\n",
            "1\n"
          ]
        }
      ]
    },
    {
      "cell_type": "markdown",
      "source": [
        "- The `break` statement is used to exit a loop prematurely.\n",
        "- The `pass` statement is a no-operation statement. It does nothing and allows the loop to continue.\n",
        "-The `continue` statement is used to skip the current iteration of the loop and continue with the next iteration.\n"
      ],
      "metadata": {
        "id": "DsLap8BIZJU4"
      }
    },
    {
      "cell_type": "code",
      "source": [
        "#Break\n",
        "i = 0\n",
        "while i < 5:\n",
        "    print(i)\n",
        "    if i == 3:\n",
        "        break\n",
        "    i += 1\n"
      ],
      "metadata": {
        "colab": {
          "base_uri": "https://localhost:8080/"
        },
        "id": "ng6QtQaDY4PL",
        "outputId": "52c04666-3687-4805-8304-413f4cf54b2e"
      },
      "execution_count": 2,
      "outputs": [
        {
          "output_type": "stream",
          "name": "stdout",
          "text": [
            "0\n",
            "1\n",
            "2\n",
            "3\n"
          ]
        }
      ]
    },
    {
      "cell_type": "code",
      "source": [
        "#Pass\n",
        "i = 0\n",
        "while i < 5:\n",
        "    if i == 2:\n",
        "        pass\n",
        "    else:\n",
        "        print(i)\n",
        "    i += 1\n"
      ],
      "metadata": {
        "colab": {
          "base_uri": "https://localhost:8080/"
        },
        "id": "FZlsx-LeZdkN",
        "outputId": "5501e66f-2d80-43bd-939d-e967309b16c3"
      },
      "execution_count": 3,
      "outputs": [
        {
          "output_type": "stream",
          "name": "stdout",
          "text": [
            "0\n",
            "1\n",
            "3\n",
            "4\n"
          ]
        }
      ]
    },
    {
      "cell_type": "code",
      "source": [
        "#Continue\n",
        "i = 0\n",
        "while i < 5:\n",
        "    i += 1\n",
        "    if i == 2:\n",
        "        continue\n",
        "    print(i)\n"
      ],
      "metadata": {
        "colab": {
          "base_uri": "https://localhost:8080/"
        },
        "id": "eJoRemDuZgY6",
        "outputId": "355903af-fb15-4089-9b07-3e9834c3c032"
      },
      "execution_count": 4,
      "outputs": [
        {
          "output_type": "stream",
          "name": "stdout",
          "text": [
            "1\n",
            "3\n",
            "4\n",
            "5\n"
          ]
        }
      ]
    },
    {
      "cell_type": "code",
      "source": [],
      "metadata": {
        "id": "Exu0c3HwZlrx"
      },
      "execution_count": null,
      "outputs": []
    },
    {
      "cell_type": "markdown",
      "source": [
        "## Functions and Methods"
      ],
      "metadata": {
        "id": "6niqdef8Z6Pe"
      }
    },
    {
      "cell_type": "markdown",
      "source": [
        "Certainly! Let's start by defining functions and methods and then discuss their differences and scope.\n",
        "\n",
        "**Function:**\n",
        "- A function is a block of reusable code that performs a specific task or a set of tasks.\n",
        "- Functions are defined using the `def` keyword in Python, followed by the function name, parameters (if any), a colon, and the function body.\n",
        "- Functions are called by their name, followed by parentheses `()`, which may contain arguments.\n",
        "- Functions can be defined at the module level or within other functions.\n",
        "\n",
        "Example of defining and calling a function:\n",
        "\n",
        "```python\n",
        "def greet(name):\n",
        "    print(f\"Hello, {name}!\")\n",
        "\n",
        "greet(\"Alice\")  # Calling the function\n",
        "```\n",
        "\n",
        "**Method:**\n",
        "- A method is a function that is associated with an object or a class.\n",
        "- Methods are called on objects and can access and modify the object's data.\n",
        "- Methods are defined within classes and are used to define the behavior of objects of that class.\n",
        "- Methods are accessed using the dot notation `object.method()`.\n",
        "\n",
        "Example of defining and calling a method:\n",
        "\n",
        "```python\n",
        "class Dog:\n",
        "    def bark(self):\n",
        "        print(\"Woof!\")\n",
        "\n",
        "my_dog = Dog()\n",
        "my_dog.bark()  # Calling the method on an object\n",
        "```\n",
        "\n",
        "**Difference between Function and Method:**\n",
        "1. **Association with Objects:**\n",
        "   - A function is not associated with any particular object or class.\n",
        "   - A method is always associated with an object or a class. It operates on the data contained within that object or class.\n",
        "\n",
        "2. **Syntax:**\n",
        "   - Functions are defined using the `def` keyword.\n",
        "   - Methods are defined within classes and use the `def` keyword as well but are associated with that class.\n",
        "\n",
        "3. **Calling:**\n",
        "   - Functions are called by their name.\n",
        "   - Methods are called on objects or classes and use the dot notation (`object.method()` or `class.method()`).\n",
        "\n",
        "**Scope:**\n",
        "- The scope of a function or method defines where it can be accessed or called within a program.\n",
        "- In Python, there are two main types of scope: global scope and local scope.\n",
        "- Functions and methods have their own local scope, which means variables defined inside them are only accessible within that function or method.\n",
        "- Variables defined outside of any function or method have global scope and can be accessed from anywhere in the program.\n",
        "\n",
        "Example of scope:\n",
        "\n",
        "```python\n",
        "x = 10  # Global variable\n",
        "\n",
        "def my_function():\n",
        "    y = 5  # Local variable\n",
        "    print(x)  # Accessing the global variable\n",
        "    print(y)  # Accessing the local variable\n",
        "\n",
        "my_function()\n",
        "print(x)  # Accessing the global variable outside the function\n",
        "# print(y)  # This would result in an error because y is a local variable\n",
        "```\n",
        "\n",
        "In summary, functions are independent blocks of code that can be defined and called globally, while methods are functions associated with objects or classes and operate on their data. Both functions and methods have their own local scope, and variables within them have limited visibility. Global variables, on the other hand, are accessible from anywhere in the program."
      ],
      "metadata": {
        "id": "yI6xU0Pnas8G"
      }
    },
    {
      "cell_type": "markdown",
      "source": [
        "## Pandas"
      ],
      "metadata": {
        "id": "3PkB8Fk6axfF"
      }
    },
    {
      "cell_type": "markdown",
      "source": [
        "**Series and DataFrames** are fundamental data structures provided by the **Pandas** library in Python for data manipulation and analysis. They are built on top of NumPy arrays and are particularly useful for handling structured data.\n",
        "\n",
        "### Series:\n",
        "\n",
        "- A **Series** is a one-dimensional labeled array capable of holding data of various types (numeric, string, etc.).\n",
        "- It is similar to a column in a spreadsheet or a single column in a database table.\n",
        "- A Series has two main components: the data (values) and the index (labels for the data).\n",
        "- You can create a Series using the `pd.Series()` constructor.\n",
        "\n",
        "Creating a Series from a list:\n",
        "```python\n",
        "import pandas as pd\n",
        "\n",
        "data = [1, 2, 3, 4, 5]\n",
        "series = pd.Series(data)\n",
        "```\n",
        "\n",
        "Creating a Series from a dictionary:\n",
        "```python\n",
        "data = {'a': 1, 'b': 2, 'c': 3}\n",
        "series = pd.Series(data)\n",
        "```\n",
        "\n",
        "### DataFrame:\n",
        "\n",
        "- A **DataFrame** is a two-dimensional labeled data structure with columns of potentially different types.\n",
        "- It is similar to a spreadsheet or SQL table, where data is organized in rows and columns.\n",
        "- A DataFrame has both row labels (index) and column labels.\n",
        "- You can create a DataFrame using the `pd.DataFrame()` constructor.\n",
        "\n",
        "Creating a DataFrame from a list of lists:\n",
        "```python\n",
        "import pandas as pd\n",
        "\n",
        "data = [[1, 'Alice'], [2, 'Bob'], [3, 'Charlie']]\n",
        "df = pd.DataFrame(data, columns=['ID', 'Name'])\n",
        "```\n",
        "\n",
        "Creating a DataFrame from a dictionary of lists:\n",
        "```python\n",
        "data = {'ID': [1, 2, 3], 'Name': ['Alice', 'Bob', 'Charlie']}\n",
        "df = pd.DataFrame(data)\n",
        "```\n",
        "\n",
        "Creating a DataFrame from a list of dictionaries:\n",
        "```python\n",
        "data = [{'ID': 1, 'Name': 'Alice'}, {'ID': 2, 'Name': 'Bob'}, {'ID': 3, 'Name': 'Charlie'}]\n",
        "df = pd.DataFrame(data)\n",
        "```"
      ],
      "metadata": {
        "id": "IfQGcRzMbNOG"
      }
    },
    {
      "cell_type": "markdown",
      "source": [
        "### Functions and Methods\n",
        "\n",
        "Let's cover some fundamental DataFrame operations:\n",
        "\n",
        "**1. Creating DataFrames:**\n",
        "\n",
        "```python\n",
        "import pandas as pd\n",
        "\n",
        "# Creating a DataFrame from a dictionary\n",
        "data = {'Name': ['Alice', 'Bob', 'Charlie'],\n",
        "        'Age': [25, 30, 22]}\n",
        "df = pd.DataFrame(data)\n",
        "print(df)\n",
        "```\n",
        "\n",
        "**2. Accessing Data:**\n",
        "\n",
        "```python\n",
        "# Accessing a single column\n",
        "names = df['Name']\n",
        "\n",
        "# Accessing multiple columns\n",
        "subset = df[['Name', 'Age']]\n",
        "\n",
        "# Accessing rows using iloc (integer location)\n",
        "row = df.iloc[1]  # Access the second row (index 1)\n",
        "```\n",
        "\n",
        "**3. Filtering Data:**\n",
        "\n",
        "```python\n",
        "# Filtering rows based on a condition\n",
        "young_people = df[df['Age'] < 30]\n",
        "```\n",
        "\n",
        "**4. Adding and Removing Columns:**\n",
        "\n",
        "```python\n",
        "# Adding a new column\n",
        "df['City'] = ['New York', 'San Francisco', 'Los Angeles']\n",
        "\n",
        "# Removing a column\n",
        "df.drop('City', axis=1, inplace=True)\n",
        "```\n",
        "\n",
        "**5. Aggregation and Summary Statistics:**\n",
        "\n",
        "```python\n",
        "# Calculating mean age\n",
        "mean_age = df['Age'].mean()\n",
        "\n",
        "# Grouping and aggregating data\n",
        "grouped = df.groupby('City')['Age'].mean()\n",
        "```\n",
        "\n",
        "**6. Sorting Data:**\n",
        "\n",
        "```python\n",
        "# Sorting by a specific column\n",
        "sorted_df = df.sort_values(by='Age', ascending=False)\n",
        "```\n",
        "\n",
        "**7. Merging DataFrames (Joining):**\n",
        "\n",
        "```python\n",
        "# Merging two DataFrames\n",
        "data1 = {'ID': [1, 2, 3], 'Score1': [85, 92, 78]}\n",
        "data2 = {'ID': [2, 3, 4], 'Score2': [88, 75, 90]}\n",
        "df1 = pd.DataFrame(data1)\n",
        "df2 = pd.DataFrame(data2)\n",
        "merged_df = pd.merge(df1, df2, on='ID', how='inner')\n",
        "```\n",
        "\n",
        "**8. Handling Missing Data:**\n",
        "\n",
        "```python\n",
        "# Checking for missing values\n",
        "missing_values = df.isnull()\n",
        "\n",
        "# Dropping rows with missing values\n",
        "df.dropna(inplace=True)\n",
        "\n",
        "# Filling missing values\n",
        "df.fillna(0, inplace=True)\n",
        "```\n",
        "\n",
        "**9. Pivot Tables:**\n",
        "\n",
        "```python\n",
        "# Creating a pivot table\n",
        "pivot_table = df.pivot_table(index='City', values='Age', aggfunc='mean')\n",
        "```\n",
        "\n",
        "**10. Saving and Loading Data:**\n",
        "\n",
        "```python\n",
        "# Saving DataFrame to a CSV file\n",
        "df.to_csv('data.csv', index=False)\n",
        "\n",
        "# Loading data from a CSV file\n",
        "loaded_df = pd.read_csv('data.csv')\n",
        "```"
      ],
      "metadata": {
        "id": "__VSc36cbSmZ"
      }
    },
    {
      "cell_type": "markdown",
      "source": [
        "Here are explanations of several important DataFrame methods and functions in Pandas:\n",
        "\n",
        "1. **`head(n)` and `tail(n)`:**\n",
        "   - `head(n)` returns the first `n` rows of the DataFrame.\n",
        "   - `tail(n)` returns the last `n` rows of the DataFrame.\n",
        "   \n",
        "2. **`index` and `columns`:**\n",
        "   - `index` returns the index (row labels) of the DataFrame.\n",
        "   - `columns` returns the column labels of the DataFrame.\n",
        "\n",
        "3. **`info()`:**\n",
        "   - `info()` provides a concise summary of the DataFrame, including the data types, non-null values, and memory usage.\n",
        "\n",
        "4. **`rename(columns=)` and `rename(index=)`:**\n",
        "   - `rename(columns=)` renames columns in the DataFrame.\n",
        "   - `rename(index=)` renames index (row labels) in the DataFrame.\n",
        "\n",
        "5. **`describe()`:**\n",
        "   - `describe()` generates summary statistics of the DataFrame's numeric columns, including count, mean, standard deviation, min, max, and quartiles.\n",
        "\n",
        "6. **`iloc[row_index, col_index]` and `loc[row_label, col_label]`:**\n",
        "   - `iloc` and `loc` allow for selecting rows and columns by integer position (`iloc`) or by labels (`loc`).\n",
        "\n",
        "7. **`strptime()` and `strftime()`:**\n",
        "   - `strptime()` converts a string to a datetime object based on a specified format.\n",
        "   - `strftime()` formats a datetime object as a string based on a specified format.\n",
        "\n",
        "8. **`unique()`:**\n",
        "   - `unique()` returns an array of unique values in a column, excluding duplicates.\n",
        "\n",
        "9. **`nunique()`:**\n",
        "   - `nunique()` returns the number of unique values in a column.\n",
        "\n",
        "10. **`value_counts()`:**\n",
        "    - `value_counts()` counts the occurrences of unique values in a column and returns a Series with counts.\n",
        "\n",
        "11. **`isnull()` and `fillna()`:**\n",
        "    - `isnull()` returns a DataFrame of the same shape with `True` where values are missing (NaN) and `False` otherwise.\n",
        "    - `fillna()` fills missing (NaN) values with specified values or methods."
      ],
      "metadata": {
        "id": "gxezeKDzcQEh"
      }
    },
    {
      "cell_type": "code",
      "source": [],
      "metadata": {
        "id": "z4PDhcH2adEf"
      },
      "execution_count": null,
      "outputs": []
    },
    {
      "cell_type": "markdown",
      "source": [
        "## Numpy"
      ],
      "metadata": {
        "id": "__O9cf_ocXyv"
      }
    },
    {
      "cell_type": "markdown",
      "source": [
        "**NumPy** is a powerful Python library for numerical and scientific computing. It provides support for large, multi-dimensional arrays and matrices, as well as a variety of high-level mathematical functions to operate on these arrays. NumPy is a fundamental library for data analysis, machine learning, and scientific research in Python.\n",
        "\n",
        "### Importing NumPy:\n",
        "\n",
        "You can import NumPy in your Python code using the following statement:\n",
        "\n",
        "```python\n",
        "import numpy as np\n",
        "```\n",
        "\n",
        "### Array Inspection Methods:\n",
        "\n",
        "NumPy provides several methods to inspect arrays:\n",
        "\n",
        "1. **`shape` and `ndim`:**\n",
        "   - `shape` returns a tuple representing the dimensions of the array.\n",
        "   - `ndim` returns the number of dimensions of the array.\n",
        "\n",
        "```python\n",
        "import numpy as np\n",
        "\n",
        "arr = np.array([[1, 2, 3], [4, 5, 6]])\n",
        "print(arr.shape)  # Output: (2, 3)\n",
        "print(arr.ndim)   # Output: 2\n",
        "```\n",
        "\n",
        "2. **`dtype`:**\n",
        "   - `dtype` returns the data type of elements in the array.\n",
        "\n",
        "```python\n",
        "arr = np.array([1, 2, 3], dtype=float)\n",
        "print(arr.dtype)  # Output: float64\n",
        "```\n",
        "\n",
        "3. **`size` and `itemsize`:**\n",
        "   - `size` returns the total number of elements in the array.\n",
        "   - `itemsize` returns the size (in bytes) of each element in the array.\n",
        "\n",
        "```python\n",
        "arr = np.array([[1, 2, 3], [4, 5, 6]])\n",
        "print(arr.size)      # Output: 6\n",
        "print(arr.itemsize)  # Output: 8 (assuming 64-bit system)\n",
        "```\n",
        "\n",
        "### Creating ndarrays:\n",
        "\n",
        "NumPy provides several ways to create ndarrays:\n",
        "\n",
        "1. **`np.array()`:**\n",
        "   - Create an ndarray from a list or iterable.\n",
        "\n",
        "```python\n",
        "arr = np.array([1, 2, 3])\n",
        "```\n",
        "\n",
        "2. **`np.zeros()`:**\n",
        "   - Create an ndarray filled with zeros.\n",
        "\n",
        "```python\n",
        "zeros = np.zeros((2, 3))\n",
        "```\n",
        "\n",
        "3. **`np.ones()`:**\n",
        "   - Create an ndarray filled with ones.\n",
        "\n",
        "```python\n",
        "ones = np.ones((2, 3))\n",
        "```\n",
        "\n",
        "4. **`np.arange()`:**\n",
        "   - Create an ndarray with regularly spaced values.\n",
        "\n",
        "```python\n",
        "seq = np.arange(0, 10, 2)  # [0, 2, 4, 6, 8]\n",
        "```\n",
        "\n",
        "### Indexing and Slicing:\n",
        "\n",
        "NumPy arrays support various ways of indexing and slicing:\n",
        "\n",
        "```python\n",
        "arr = np.array([[1, 2, 3], [4, 5, 6]])\n",
        "\n",
        "# Access a specific element\n",
        "element = arr[0, 1]  # 2\n",
        "\n",
        "# Slicing\n",
        "row = arr[1, :]  # [4, 5, 6]\n",
        "column = arr[:, 2]  # [3, 6]\n",
        "```\n",
        "\n",
        "### Array Manipulation Methods:\n",
        "\n",
        "NumPy provides functions to manipulate arrays:\n",
        "\n",
        "1. **`reshape()`:**\n",
        "   - Change the shape of an array.\n",
        "\n",
        "```python\n",
        "arr = np.array([1, 2, 3, 4, 5, 6])\n",
        "reshaped = arr.reshape(2, 3)\n",
        "```\n",
        "\n",
        "2. **`flatten()` and `ravel()`:**\n",
        "   - `flatten()` returns a new 1D array.\n",
        "   - `ravel()` returns a flattened 1D view of the original array.\n",
        "\n",
        "```python\n",
        "flattened = arr.flatten()\n",
        "raveled = arr.ravel()\n",
        "```\n",
        "\n",
        "3. **`transpose()`:**\n",
        "   - Transpose rows and columns of an array.\n",
        "\n",
        "```python\n",
        "transposed = arr.transpose()\n",
        "```\n",
        "\n",
        "4. **`concatenate()`:**\n",
        "   - Join arrays along an existing axis.\n",
        "\n",
        "```python\n",
        "arr1 = np.array([1, 2, 3])\n",
        "arr2 = np.array([4, 5, 6])\n",
        "concatenated = np.concatenate((arr1, arr2))\n",
        "```\n",
        "\n",
        "These are just a few of the many methods and functions available in NumPy for working with arrays. NumPy is a vast library with extensive documentation, making it a powerful tool for scientific computing and data analysis in Python."
      ],
      "metadata": {
        "id": "tgSqp1wzc_8x"
      }
    },
    {
      "cell_type": "code",
      "source": [],
      "metadata": {
        "id": "qw0h4byPcZSj"
      },
      "execution_count": null,
      "outputs": []
    }
  ]
}