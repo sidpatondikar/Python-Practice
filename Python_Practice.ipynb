{
  "nbformat": 4,
  "nbformat_minor": 0,
  "metadata": {
    "colab": {
      "provenance": [],
      "authorship_tag": "ABX9TyMhr1IVMmi7cg/KRg57DySA",
      "include_colab_link": true
    },
    "kernelspec": {
      "name": "python3",
      "display_name": "Python 3"
    },
    "language_info": {
      "name": "python"
    }
  },
  "cells": [
    {
      "cell_type": "markdown",
      "metadata": {
        "id": "view-in-github",
        "colab_type": "text"
      },
      "source": [
        "<a href=\"https://colab.research.google.com/github/sidpatondikar/Python-Practice/blob/main/Python_Practice.ipynb\" target=\"_parent\"><img src=\"https://colab.research.google.com/assets/colab-badge.svg\" alt=\"Open In Colab\"/></a>"
      ]
    },
    {
      "cell_type": "markdown",
      "source": [
        "# Python Practice"
      ],
      "metadata": {
        "id": "VqWL-t2R6Ox3"
      }
    },
    {
      "cell_type": "markdown",
      "source": [
        "## Strings"
      ],
      "metadata": {
        "id": "cgXeuAYjVySm"
      }
    },
    {
      "cell_type": "markdown",
      "source": [
        "- Strings are used to store textual info, it can be word, phrase, sentence or entire encyclopedia.\n",
        "- In python strings are called 'sequence' which means python keep track of every element inside the string as a sequence."
      ],
      "metadata": {
        "id": "E-fuQQOMWLcD"
      }
    },
    {
      "cell_type": "markdown",
      "source": [
        "### String Indexing"
      ],
      "metadata": {
        "id": "b5QBrDL4Weo8"
      }
    },
    {
      "cell_type": "code",
      "source": [
        "s = 'Siddharth'\n",
        "\n",
        "#Indexing\n",
        "print(f'Indexing : {s[2]}')\n",
        "\n",
        "#Slicing\n",
        "print(f'Slicing : {s[0:3]}')\n",
        "\n",
        "#Indexing + Slicing\n",
        "print(f'Slicing alternate char : {s[::2]}')\n",
        "\n",
        "#Reverse slicing\n",
        "print(f'Reverse : {s[8::-1]}')\n"
      ],
      "metadata": {
        "id": "aBzkIqyNJ022",
        "colab": {
          "base_uri": "https://localhost:8080/"
        },
        "outputId": "91535c79-3084-4e7c-9418-6c390e50a15c"
      },
      "execution_count": 6,
      "outputs": [
        {
          "output_type": "stream",
          "name": "stdout",
          "text": [
            "Indexing : d\n",
            "Slicing : Sid\n",
            "Slicing alternate char : Sdhrh\n",
            "Reverse : htrahddiS\n"
          ]
        }
      ]
    },
    {
      "cell_type": "markdown",
      "source": [
        "- Strings are `immutable`, we have to reassign a string to make changes in it.\n",
        "- If we want a string to repeat, we multiply it by an integer, s='fe' , s*3 = 'fefefe'"
      ],
      "metadata": {
        "id": "9q2RqLiq-GbD"
      }
    },
    {
      "cell_type": "markdown",
      "source": [
        "### String Functions and Methods"
      ],
      "metadata": {
        "id": "noXatVge-an2"
      }
    },
    {
      "cell_type": "markdown",
      "source": [
        "`len(string):`\n",
        "\n",
        "- Description: Returns the length of the string (number of characters).\n",
        "- Example: len(\"hello\") returns 5.\n",
        "\n",
        "`string.capitalize():`\n",
        "\n",
        "- Description: Returns a copy of the string with the first character capitalized and the rest in lowercase.\n",
        "- Example: \"hello\".capitalize() returns \"Hello\".\n",
        "\n",
        "`string.upper():`\n",
        "\n",
        "- Description: Returns a copy of the string with all characters in uppercase.\n",
        "- Example: \"hello\".upper() returns \"HELLO\".\n",
        "\n",
        "`string.lower():`\n",
        "\n",
        "- Description: Returns a copy of the string with all characters in lowercase.\n",
        "- Example: \"Hello\".lower() returns \"hello\".\n",
        "\n",
        "`string.title():`\n",
        "\n",
        "- Description: Returns a copy of the string with the first character of each word capitalized and the rest in lowercase.\n",
        "- Example: \"hello world\".title() returns \"Hello World\".\n",
        "\n",
        "`string.count(substring):`\n",
        "\n",
        "- Description: Returns the number of non-overlapping occurrences of a substring in the string.\n",
        "- Example: \"hello world\".count(\"o\") returns 2.\n",
        "\n",
        "`string.replace(old, new[, count]):`\n",
        "\n",
        "- Description: Returns a copy of the string with all occurrences of the old substring replaced by the new substring. An optional count parameter limits the number of replacements.\n",
        "- Example: \"hello world\".replace(\"o\", \"a\") returns \"hella warld\".\n",
        "\n",
        "`string.split([separator[, maxsplit]]):`\n",
        "\n",
        "- Description: Returns a list of substrings obtained by splitting the string at occurrences of a separator. An optional maxsplit parameter limits the number of splits.\n",
        "- Example: \"hello world\".split() returns ['hello', 'world'].\n",
        "\n",
        "`string.strip([chars]):`\n",
        "\n",
        "- Description: Returns a copy of the string with leading and trailing characters from the chars parameter removed. If chars is not provided, it removes whitespace characters.\n",
        "- Example: \" hello \".strip() returns \"hello\".\n",
        "\n",
        "`string.join(iterable):`\n",
        "\n",
        "- Description: Returns a string that is the concatenation of the strings in the iterable, joined by the original string.\n",
        "- Example: \"-\".join([\"a\", \"b\", \"c\"]) returns \"a-b-c\".\n",
        "\n",
        "`string.find(substring, start, end):`\n",
        "- Description : Returns the index of first occurance of the substring.\n",
        "\n",
        "`string.rfind(substring, start, end):`\n",
        "- Description : Returns the index of last occurance of the substring."
      ],
      "metadata": {
        "id": "_9f3S9B3-dLP"
      }
    },
    {
      "cell_type": "markdown",
      "source": [
        "## Lists"
      ],
      "metadata": {
        "id": "MP0068BlALn6"
      }
    },
    {
      "cell_type": "markdown",
      "source": [
        "- Lists are the most general version of sequence in python\n",
        "- List is mutable unlike string, lists can be created using []\n",
        "- data type of list is list, a list can have any kind of data.\n",
        "- List indexing and slicing is similar to strings"
      ],
      "metadata": {
        "id": "Qea6zs9hA4IP"
      }
    },
    {
      "cell_type": "markdown",
      "source": [
        "### List Functions and Methods"
      ],
      "metadata": {
        "id": "Fw-X2PF5BLzd"
      }
    },
    {
      "cell_type": "markdown",
      "source": [
        "\n",
        "1. `len(list):`\n",
        "   - Description: Returns the number of elements in the list.\n",
        "   - Example: `len([1, 2, 3])` returns `3`.\n",
        "\n",
        "2. `max(list), min(list), sum(list):`\n",
        "    - Description : Returns the max, min or sum of the list, works for only numeric lists.\n",
        "\n",
        "2. `list.append(item):`\n",
        "   - Description: Adds an item to the end of the list.\n",
        "   - Example: `[1, 2, 3].append(4)` modifies the list to `[1, 2, 3, 4]`.\n",
        "\n",
        "3. `list.extend(iterable):`\n",
        "   - Description: Extends the list by appending elements from the iterable.\n",
        "   - Example: `[1, 2, 3].extend([4, 5])` modifies the list to `[1, 2, 3, 4, 5]`.\n",
        "\n",
        "4. `list.insert(index, item):`\n",
        "   - Description: Inserts an item at a specified index in the list.\n",
        "   - Example: `[1, 2, 3].insert(1, 5)` modifies the list to `[1, 5, 2, 3]`.\n",
        "\n",
        "5. `list.remove(item):`\n",
        "   - Description: Removes the first occurrence of the specified item from the list.\n",
        "   - Example: `[1, 2, 3, 2].remove(2)` modifies the list to `[1, 3, 2]`.\n",
        "\n",
        "6. `list.pop([index]):`\n",
        "   - Description: Removes and returns the item at the specified index. If index is not provided, removes and returns the last item.\n",
        "   - Example: `[1, 2, 3].pop(1)` modifies the list to `[1, 3]` and returns `2`.\n",
        "\n",
        "7. `list.index(item[, start[, end]]):`\n",
        "   - Description: Returns the index of the first occurrence of the specified item.\n",
        "   - Example: `[1, 2, 3, 2].index(2)` returns `1`.\n",
        "\n",
        "8. `list.count(item):`\n",
        "   - Description: Returns the number of occurrences of the specified item in the list.\n",
        "   - Example: `[1, 2, 3, 2].count(2)` returns `2`.\n",
        "\n",
        "9. `list.sort(key=None, reverse=False):`\n",
        "   - Description: Sorts the list in ascending order. The `key` parameter specifies a function to determine the sorting key, and `reverse` specifies whether to sort in descending order.\n",
        "   - Example: `[3, 1, 2].sort()` modifies the list to `[1, 2, 3]`.\n",
        "\n",
        "10. `list.reverse():`\n",
        "    - Description: Reverses the elements of the list in-place.\n",
        "    - Example: `[1, 2, 3].reverse()` modifies the list to `[3, 2, 1]`.\n",
        "\n",
        "11. `list.copy():`\n",
        "    - Description: Returns a shallow copy of the list.\n",
        "    - Example: `original_list = [1, 2, 3]; copied_list = original_list.copy()`.\n",
        "\n",
        "12. `list.clear():`\n",
        "    - Description: Removes all elements from the list, making it empty.\n",
        "    - Example: `[1, 2, 3].clear()` modifies the list to `[]`.\n",
        "\n"
      ],
      "metadata": {
        "id": "B4o5nzxDBOio"
      }
    },
    {
      "cell_type": "markdown",
      "source": [
        "### List Important Notes\n",
        "\n",
        "- If we initialize a string inside a list, it takes all its letters as element\n",
        "\n",
        "  eg: `list('cat') = ['c','a','t']`\n",
        "\n",
        "- If list = [None]*10, len(list)=10\n",
        "\n",
        "- As ASCII of captial letters < small letters, on sorting, capital letters will always come first."
      ],
      "metadata": {
        "id": "hmsAPItcDI2A"
      }
    },
    {
      "cell_type": "markdown",
      "source": [
        "#Tuples"
      ],
      "metadata": {
        "id": "aDWImf8eDz_e"
      }
    },
    {
      "cell_type": "markdown",
      "source": [
        "- Tuples are similar to lists but are immutable\n",
        "- Can initialize a tuple using `()`\n",
        "- Can take any type of dataset inside it\n",
        "- Indexing and slicing is same as strings."
      ],
      "metadata": {
        "id": "pOrYkStjD2wz"
      }
    },
    {
      "cell_type": "markdown",
      "source": [
        "## Tuples Functions and Methods"
      ],
      "metadata": {
        "id": "Bmod95jgEIri"
      }
    },
    {
      "cell_type": "markdown",
      "source": [
        "Certainly! Here's a list of commonly used functions and methods for tuples in Python, along with short descriptions for each:\n",
        "\n",
        "1. `len(tuple):`\n",
        "   - Description: Returns the number of elements in the tuple.\n",
        "   - Example: `len((1, 2, 3))` returns `3`.\n",
        "\n",
        "2. `tuple.count(item):`\n",
        "   - Description: Returns the number of occurrences of the specified item in the tuple.\n",
        "   - Example: `(1, 2, 3, 2).count(2)` returns `2`.\n",
        "\n",
        "3. `tuple.index(item[, start[, end]]):`\n",
        "   - Description: Returns the index of the first occurrence of the specified item.\n",
        "   - Example: `(1, 2, 3, 2).index(2)` returns `1`.\n",
        "\n",
        "4. `zip()` : Takes lists as argument and zips them together.\n",
        "\n"
      ],
      "metadata": {
        "id": "TmiFcosnEVR_"
      }
    },
    {
      "cell_type": "code",
      "source": [],
      "metadata": {
        "id": "MH895iT99upO"
      },
      "execution_count": null,
      "outputs": []
    }
  ]
}